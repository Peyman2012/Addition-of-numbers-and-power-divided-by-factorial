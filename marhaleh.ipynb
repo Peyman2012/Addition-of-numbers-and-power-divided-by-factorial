{
 "cells": [
  {
   "cell_type": "code",
   "execution_count": 4,
   "metadata": {},
   "outputs": [
    {
     "name": "stdout",
     "output_type": "stream",
     "text": [
      "Enter a:5\n"
     ]
    }
   ],
   "source": [
    "a=int(input(\"Enter a:\"))"
   ]
  },
  {
   "cell_type": "code",
   "execution_count": 2,
   "metadata": {},
   "outputs": [
    {
     "name": "stdout",
     "output_type": "stream",
     "text": [
      "Enter k:3\n"
     ]
    }
   ],
   "source": [
    "k=int(input(\"Enter k:\"))"
   ]
  },
  {
   "cell_type": "code",
   "execution_count": 12,
   "metadata": {},
   "outputs": [
    {
     "name": "stdout",
     "output_type": "stream",
     "text": [
      "- 3 ** 1 / 1 ! + 3 ** 2 / 2 ! - 3 ** 3 / 3 ! + 3 ** 4 / 4 ! - 3 ** 5 / 5 ! = 1.65\n"
     ]
    }
   ],
   "source": [
    "sum=0\n",
    "sign=1\n",
    "fact=1\n",
    "pow=1\n",
    "for i in range(1,a+1):\n",
    "    fact=fact*i\n",
    "    pow=pow*k\n",
    "    sum=sum+sign*pow/fact\n",
    "    sign=-sign\n",
    "    if sign==1 and i!=a :\n",
    "        print(\"+\",k,\"**\",i,\"/\",i,\"!\",end=' ')   \n",
    "    else:\n",
    "         print(\"-\",k,\"**\",i,\"/\",i,\"!\",end=' ')  \n",
    "print(\"=\",sum)"
   ]
  },
  {
   "cell_type": "code",
   "execution_count": null,
   "metadata": {},
   "outputs": [],
   "source": []
  }
 ],
 "metadata": {
  "kernelspec": {
   "display_name": "Python 3",
   "language": "python",
   "name": "python3"
  },
  "language_info": {
   "codemirror_mode": {
    "name": "ipython",
    "version": 3
   },
   "file_extension": ".py",
   "mimetype": "text/x-python",
   "name": "python",
   "nbconvert_exporter": "python",
   "pygments_lexer": "ipython3",
   "version": "3.6.13"
  }
 },
 "nbformat": 4,
 "nbformat_minor": 2
}
